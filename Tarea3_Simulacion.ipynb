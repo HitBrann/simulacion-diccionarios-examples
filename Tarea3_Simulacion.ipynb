{
  "cells": [
    {
      "cell_type": "code",
      "execution_count": null,
      "metadata": {
        "id": "CVlJAIGADy8H"
      },
      "outputs": [],
      "source": [
        "\"\"\"\n",
        "\n",
        "Simulación.\n",
        "\n",
        "Integrantes ( orden alfabetico ):\n",
        "\n",
        "Delgadillo Zúñiga Brandon Arturo ( DZBA )\n",
        "\n",
        "Nombre del programa : Tarea3:Simulación.ipynb\n",
        "\n",
        "\"\"\"\n",
        "# ----- seccion de bibliotecas \n",
        "import math\n",
        "import numpy as np\n",
        "from collections import Counter"
      ]
    },
    {
      "attachments": {},
      "cell_type": "markdown",
      "metadata": {
        "id": "nTiAB4OSGl2x"
      },
      "source": [
        "## Simulacion de probabilidades\n",
        "\n",
        "Define la función \n",
        "\n",
        "`def MonteCarlo(F, N, a, b)`\n",
        "\n",
        "Y los parámetros son:\n",
        "\n",
        "F: función a integrar\n",
        "N: número de valores aleatorios\n",
        "a,b: límites de integración\n",
        "Que sea capaz de realizar la aproximación de una integral triple definida entre a, b, por ejemplo si tomas la función $F(x,y,z)=x^2 + y^2 + z^2$ y los límites $a=0, b=2$ tu función debe devolver 32. Valida tus resultados usando [wolfram](https://www.wolframalpha.com/input?i=triple+definite+integral&assumption=%7B%22F%22%2C+%22TripleIntegral%22%2C+%22rangestart1i%22%7D+-%3E%220%22&assumption=%7B%22F%22%2C+%22TripleIntegral%22%2C+%22intvariable1i%22%7D+-%3E%22x%22&assumption=%7B%22F%22%2C+%22TripleIntegral%22%2C+%22rangeend3%22%7D+-%3E%222%22&assumption=%7B%22F%22%2C+%22TripleIntegral%22%2C+%22rangestart2m%22%7D+-%3E%220%22&assumption=%7B%22F%22%2C+%22TripleIntegral%22%2C+%22rangeend2m%22%7D+-%3E%222%22&assumption=%7B%22F%22%2C+%22TripleIntegral%22%2C+%22intvariable3%22%7D+-%3E%22z%22&assumption=%7B%22F%22%2C+%22TripleIntegral%22%2C+%22intvariable2m%22%7D+-%3E%22y%22&assumption=%7B%22C%22%2C+%22triple+integral%22%7D+-%3E+%7B%22Calculator%22%7D&assumption=%7B%22F%22%2C+%22TripleIntegral%22%2C+%22integrand%22%7D+-%3E%22x%5E2+%2B+y%5E2+%2B+z%5E2%22&assumption=%7B%22F%22%2C+%22TripleIntegral%22%2C+%22rangeend1i%22%7D+-%3E%222%22&assumption=%7B%22F%22%2C+%22TripleIntegral%22%2C+%22rangestart3%22%7D+-%3E%220%22&lang=es)."
      ]
    },
    {
      "cell_type": "code",
      "execution_count": null,
      "metadata": {
        "colab": {
          "base_uri": "https://localhost:8080/"
        },
        "id": "WDikbTw6D4b1",
        "outputId": "29920a38-fc2e-4060-de50-8d98c3bad116"
      },
      "outputs": [
        {
          "name": "stdout",
          "output_type": "stream",
          "text": [
            "31.98866374973383\n"
          ]
        }
      ],
      "source": [
        "def MonteCarlo(F: 'function',N: int,a: float,b: float)->(float):\n",
        "  \"\"\"\n",
        "Returns the aproximation to a triple definite integral, every one on an interval [a,b] by using Monte Carlo Method .\n",
        "\n",
        "Parameters\n",
        "----------\n",
        "F: function\n",
        "The function which is going to be calculated its integral\n",
        "\n",
        "N: int\n",
        "Number of random values\n",
        "\n",
        "a: float\n",
        "Inferior limit\n",
        "\n",
        "b: float\n",
        "Superior limit\n",
        "\n",
        "Returns\n",
        "-------\n",
        "dim*temp/N : float\n",
        "The aproximation to a triple definite integral, every one on an interval [a,b] by using Monte Carlo Method .\n",
        "\n",
        "Examples\n",
        "--------\n",
        ">>> print(MonteCarlo(integral1, 1000000, 0, 2))\n",
        "32.007201798925216\n",
        "\"\"\"\n",
        "\n",
        "    \n",
        "  # area a integrar (todas van en el rango de a a b)\n",
        "  dim = (b-a)*(b-a)*(b-a)\t\n",
        "  # valores aleatorios para cada dimensión\t\t\t\t\t\t\n",
        "  a1 = np.random.uniform(a,b,size=N)\n",
        "  a2 = np.random.uniform(a,b,size=N)\n",
        "  a3 = np.random.uniform(a,b,size=N)\n",
        "  # acumulador temporal\n",
        "  temp = 0\n",
        "  # ciclo para realizar la suma de MC\t\t\t\t\t\t\t\t\t\t\t\n",
        "  for i in range(N):\n",
        "    temp += F(a1[i],a2[i],a3[i])\t\t\n",
        "  # aproximacion mediante formula de MC\n",
        "  return dim*temp/N\n",
        "\n",
        "\n",
        "\"\"\"Creamos nuestra integral de ejemplo e imprimimos el resultado\"\"\"\n",
        "integral1 = lambda x,y,z : (x**2)+(y**2)+(z**2)\n",
        "print(MonteCarlo(integral1, 1000000, 0, 2))\n"
      ]
    },
    {
      "attachments": {},
      "cell_type": "markdown",
      "metadata": {
        "id": "gCSqZEl0HVFL"
      },
      "source": [
        "## Diccionarios\n",
        "\n",
        "Del siguiente diccionario:\n",
        "```python\n",
        "month_dict = {\n",
        "    \"Enero\": 31,\n",
        "    \"Febero\": 28,\n",
        "    \"Marzo\": 31,\n",
        "    \"Abril\": 30,\n",
        "    \"Mayo\": 31,\n",
        "    \"Junio\": 30,\n",
        "    \"Julio\": 31,\n",
        "    \"Augosto\": 31,\n",
        "    \"Septiembre\": 30,\n",
        "    \"Octubre\": 31,\n",
        "    \"Noviembre\": 30,\n",
        "    \"Diciembre\": 31,\n",
        "}\n",
        "```\n",
        "realiza lo siguitente:\n",
        "- a) Usando el diccionario devuelve el numero de días que tiene Febrero\n",
        "- b) Regresa una lista de los nombres de los meses ordenada alfabeticamente\n",
        "- c) Regresa una lista con el nombre de los meses que tienen 31 dias\n",
        "- d) imprime el nombre del mes y el numero de días en orden ascendente segun los días \n"
      ]
    },
    {
      "cell_type": "code",
      "execution_count": null,
      "metadata": {
        "id": "q4RkAOvTnLW_"
      },
      "outputs": [],
      "source": [
        "#Creamos el diccionario que se nos señala\n",
        "month_dict = {\n",
        "    \"Enero\": 31,\n",
        "    \"Febero\": 28,\n",
        "    \"Marzo\": 31,\n",
        "    \"Abril\": 30,\n",
        "    \"Mayo\": 31,\n",
        "    \"Junio\": 30,\n",
        "    \"Julio\": 31,\n",
        "    \"Augosto\": 31,\n",
        "    \"Septiembre\": 30,\n",
        "    \"Octubre\": 31,\n",
        "    \"Noviembre\": 30,\n",
        "    \"Diciembre\": 31,\n",
        "}"
      ]
    },
    {
      "cell_type": "code",
      "execution_count": null,
      "metadata": {
        "colab": {
          "base_uri": "https://localhost:8080/"
        },
        "id": "jXC7Lqn_yD_M",
        "outputId": "cd904d10-303e-414e-e544-c74422d168d7"
      },
      "outputs": [
        {
          "name": "stdout",
          "output_type": "stream",
          "text": [
            "28\n"
          ]
        }
      ],
      "source": [
        "#a) Usando el diccionario devuelve el numero de días que tiene Febrero\n",
        "#Usamos la función integrada de los diccionarios que al introducirle una llave nos devuelve su valor\n",
        "dias=month_dict[\"Febero\"]\n",
        "print(dias)"
      ]
    },
    {
      "cell_type": "code",
      "execution_count": null,
      "metadata": {
        "colab": {
          "base_uri": "https://localhost:8080/"
        },
        "id": "qPSEATvByS7a",
        "outputId": "f277d82b-70eb-430b-eddf-7e01bf3136fe"
      },
      "outputs": [
        {
          "name": "stdout",
          "output_type": "stream",
          "text": [
            "['Abril', 'Augosto', 'Diciembre', 'Enero', 'Febero', 'Julio', 'Junio', 'Marzo', 'Mayo', 'Noviembre', 'Octubre', 'Septiembre']\n"
          ]
        }
      ],
      "source": [
        "#b) Regresa una lista de los nombres de los meses ordenada alfabeticamente\n",
        "\"\"\"\n",
        "\n",
        "Primero definimos un algoritmo de ordenamiento, en este caso Quicksort. \n",
        "\n",
        "\"\"\"\n",
        "# Definicion recursiva de quicksort\n",
        "def quickSort(lista):\n",
        "  # si la lista es de tamano 1 o menor se devuelve\n",
        "  if len(lista) < 2:\n",
        "    return lista\n",
        "  # en otro caso se parte la lista y se resuelve recursivamente\n",
        "  else:\n",
        "    # se parte la lista original (n operaciones)\n",
        "    menores, pivote, mayores = particion(lista) \n",
        "    # 2*T(n/2)\n",
        "    return quickSort(menores)+[pivote]+quickSort(mayores)\n",
        "\n",
        "# Definicion del algoritmo para partir una lista en mayores y menores\n",
        "def particion(lista):\n",
        "  mayores, menores = [], []\n",
        "  # pivote para realizar la comparación\n",
        "  pivote = lista[0]\n",
        "  for i in range(1,len(lista)):\n",
        "    if lista[i] < pivote:\n",
        "      menores.append(lista[i])\n",
        "    else:\n",
        "      mayores.append(lista[i])\n",
        "  # se devuelven ambas listas y el pivote\n",
        "  return menores, pivote, mayores\n",
        "\n",
        "\"\"\"\n",
        "\n",
        "Ahora simplemente convertimos en lista nuestras llaves del diccionario y las metemos al quicksort\n",
        "\n",
        "\"\"\"\n",
        "print(quickSort(list(month_dict.keys())))"
      ]
    },
    {
      "cell_type": "code",
      "execution_count": null,
      "metadata": {
        "colab": {
          "base_uri": "https://localhost:8080/"
        },
        "id": "yhfneJPMyfbt",
        "outputId": "e7c2f26f-93c7-4951-c4a2-ad195c8d61e8"
      },
      "outputs": [
        {
          "name": "stdout",
          "output_type": "stream",
          "text": [
            "['Enero', 'Marzo', 'Mayo', 'Julio', 'Augosto', 'Octubre', 'Diciembre']\n"
          ]
        }
      ],
      "source": [
        "#c) Regresa una lista con el nombre de los meses que tienen 31 dias\n",
        "#Creamos una lista vacía\n",
        "dias_31=[]\n",
        "#Usamos un for con las llaves del diccionario\n",
        "for i in month_dict.keys():\n",
        "  #si el valor que tiene asignado esa llave es 31, entonces nos agrega a nuestra lista la llave que en este caso es el nombre del mes\n",
        "  if month_dict[i]==31:\n",
        "    dias_31.append(i)\n",
        "\n",
        "print(dias_31)"
      ]
    },
    {
      "cell_type": "code",
      "execution_count": null,
      "metadata": {
        "colab": {
          "base_uri": "https://localhost:8080/"
        },
        "id": "J0YKpARu1r6Y",
        "outputId": "2c756817-c6f2-46a0-f5f6-354a3f5ee630"
      },
      "outputs": [
        {
          "name": "stdout",
          "output_type": "stream",
          "text": [
            "Febero: 28\n",
            "Noviembre: 30\n",
            "Septiembre: 30\n",
            "Junio: 30\n",
            "Abril: 30\n",
            "Diciembre: 31\n",
            "Octubre: 31\n",
            "Augosto: 31\n",
            "Julio: 31\n",
            "Mayo: 31\n",
            "Marzo: 31\n",
            "Enero: 31\n"
          ]
        }
      ],
      "source": [
        "#d) imprime el nombre del mes y el numero de días en orden ascendente segun los días \n",
        "#Usamos Counter que nos permitirá organizar elementos de un diccionario\n",
        "contador = Counter(month_dict)\n",
        "#Pedimos que nos ordene todo en orden de menor a mayor basado en sus valores\n",
        "diccionarioOrdenado = contador.most_common()[::-1]\n",
        "#Con un for imprimimos cada mes de nuestro diccionario ordenado y su valor correspondiente\n",
        "for i in range (len(diccionarioOrdenado)):\n",
        "  print(str(diccionarioOrdenado[i][0])+\":\", diccionarioOrdenado[i][1])"
      ]
    },
    {
      "attachments": {},
      "cell_type": "markdown",
      "metadata": {
        "id": "mtlHxZ8HHdPj"
      },
      "source": [
        "Del siguiente diccionario\n",
        "```python\n",
        "d=[{'name':'Todd', 'phone':'555-1414', 'email':'todd@mail.net'},\n",
        "{'name':'Helga', 'phone':'555-1618', 'email':'helga@mail.net'},\n",
        "{'name':'Princess', 'phone':'555-3141', 'email':''},\n",
        "{'name':'LJ', 'phone':'555-2718', 'email':'lj@mail.net'}]\n",
        "```\n",
        "Realiza lo siguiente:\n",
        "\n",
        "  a) regresa una lista con los nombres de las personas cuyo telefono termina en 8\n",
        "  \n",
        "  b) una lista de las personas cuyo email es vacío"
      ]
    },
    {
      "cell_type": "code",
      "execution_count": null,
      "metadata": {
        "id": "PmQ8KK40GeNK"
      },
      "outputs": [],
      "source": [
        "#Definimos el diccionario que se nos solicita:\n",
        "\n",
        "d=[{'name':'Todd', 'phone':'555-1414', 'email':'todd@mail.net'},\n",
        "{'name':'Helga', 'phone':'555-1618', 'email':'helga@mail.net'},\n",
        "{'name':'Princess', 'phone':'555-3141', 'email':''},\n",
        "{'name':'LJ', 'phone':'555-2718', 'email':'lj@mail.net'}]"
      ]
    },
    {
      "cell_type": "code",
      "execution_count": null,
      "metadata": {
        "colab": {
          "base_uri": "https://localhost:8080/"
        },
        "id": "9TiQqcp9GS-o",
        "outputId": "c7c9afbb-5cbe-4c0e-ff8f-1fd75c8ab679"
      },
      "outputs": [
        {
          "name": "stdout",
          "output_type": "stream",
          "text": [
            "['Helga', 'LJ']\n"
          ]
        }
      ],
      "source": [
        "#a) regresa una lista con los nombres de las personas cuyo telefono termina en 8 \n",
        "\n",
        "#Creamos una lista vacía\n",
        "termina_en_8=[]\n",
        "\"\"\"\n",
        "Notamos que nuestra lista d tiene un diccionario por persona, por lo cual accedemos\n",
        "a cada diccionario con un for\n",
        "\"\"\"\n",
        "for i in d:\n",
        "  \"\"\"\n",
        " Usamos la llave 'phone' para acceder al telefono de cada persona y comparamos su\n",
        " último elemento con un 8(tanto el telefono como el último elemento son de tipo str),\n",
        " en caso positivo, se añadirá el nombre de la persona del mismo diccionario a la lista\"\"\"\n",
        "  if i['phone'][-1]==\"8\":\n",
        "    termina_en_8.append(i['name'])\n",
        "\n",
        "print(termina_en_8)"
      ]
    },
    {
      "cell_type": "code",
      "execution_count": null,
      "metadata": {
        "colab": {
          "base_uri": "https://localhost:8080/"
        },
        "id": "BPsHgGljGXXa",
        "outputId": "21d41ea2-2c06-4cdf-c6ea-d1566f64073f"
      },
      "outputs": [
        {
          "name": "stdout",
          "output_type": "stream",
          "text": [
            "['Princess']\n"
          ]
        }
      ],
      "source": [
        "#b) una lista de las personas cuyo email es vacío\n",
        "#Creamos una lista vacía de gente sin e-mail\n",
        "no_mail=[]\n",
        "\"\"\"Checamos en cada diccionario en la lista si, usando la llave email nos da una cadena vacía\n",
        "en caso afirmativo, nos regresa el nombre del mismo diccionario recordando que \n",
        "cada diccionario tiene los datos de una sola persona en este caso.\n",
        "\"\"\"\n",
        "for i in d:\n",
        "  if i['email']==\"\":\n",
        "    no_mail.append(i['name'])\n",
        "print(no_mail)"
      ]
    },
    {
      "attachments": {},
      "cell_type": "markdown",
      "metadata": {
        "id": "1Ij-ohcVnXIx"
      },
      "source": [
        "Con base en el siguiente diccionario:\n",
        "\n",
        "```python\n",
        "roman_values = {'M': 1000, 'D': 500, 'C': 100, 'L': 50, 'X': 10, 'V': 5, 'I': 1}\n",
        "```\n",
        "a) Construye una función que transforme de numeros romanos a enteros, la función debe de recibir una cadena.\n",
        "en la función verifica prueba con estas 4 cadenas\n",
        "- 'MCMLIV'\n",
        "- 'MMXIX'\n",
        "- 'IV'\n",
        "- 'XL'\n",
        "\n",
        "b) Haz la función contraria, de enteros a Romanos\n",
        "- Para este ejercicio testea en el verifica la salida del inciso a)"
      ]
    },
    {
      "cell_type": "code",
      "execution_count": null,
      "metadata": {
        "id": "IZtmt7zOJCQg"
      },
      "outputs": [],
      "source": [
        "#Creamos el diccionario que se nos pide usar en las funciones\n",
        "\n",
        "roman_values = {'M': 1000, 'D': 500, 'C': 100, 'L': 50, 'X': 10, 'V': 5, 'I': 1}"
      ]
    },
    {
      "cell_type": "code",
      "execution_count": null,
      "metadata": {
        "colab": {
          "base_uri": "https://localhost:8080/"
        },
        "id": "KByV54VRJIb5",
        "outputId": "200dcff3-6b9c-4767-c29d-acf45bda317a"
      },
      "outputs": [
        {
          "name": "stdout",
          "output_type": "stream",
          "text": [
            "1954\n",
            "2019\n",
            "4\n",
            "40\n"
          ]
        }
      ],
      "source": [
        "\"\"\"\n",
        "a) Construye una función que transforme de numeros romanos a enteros, la función debe de recibir una cadena.\n",
        "en la función verifica prueba con estas 4 cadenas\n",
        "- 'MCMLIV'\n",
        "- 'MMXIX'\n",
        "- 'IV'\n",
        "- 'XL'\n",
        "\"\"\"\n",
        "#Definimos la función\n",
        "def roman_to_int(roman_numeral:str)->(int):\n",
        "  \"\"\"\n",
        "  Returns the convertion from Roman Numerals to integers.\n",
        "\n",
        "  Parameters\n",
        "  ----------\n",
        "  roman_numeral:str\n",
        "  The roman numeral to convert to a integer\n",
        "\n",
        "  Returns\n",
        "  -------\n",
        "  suma_total : int\n",
        "  The convertion from Roman Numeral to integer.\n",
        "\n",
        "  Examples\n",
        "  --------\n",
        "  >>> roman_to_int('V')\n",
        "  5\n",
        "  \"\"\"\n",
        "  #Usamos nuestro diccionario\n",
        "  roman_values = {'M': 1000, 'D': 500, 'C': 100, 'L': 50, 'X': 10, 'V': 5, 'I': 1}\n",
        "  #Creamos una variable temporal que usaremos para comparar con el valor anterior\n",
        "  temp_value = 0\n",
        "  #Los numeros romanos pueden describirse como una suma de otros que será lo que haremos\n",
        "  suma_total = 0\n",
        "  #Tomamos un elemento de la cadena del número romano\n",
        "  for i in roman_numeral:\n",
        "    #Asignamos el valor de anterior como el de la variable temporal de la iteracion anterior o 0 si no a habido alguna antes\n",
        "    anterior=temp_value\n",
        "    #Nuestra variable temporal se actualiza al valor que le corresponde en el diccionario a esta parte de la cadena\n",
        "    temp_value=roman_values[i]\n",
        "    #Si nuestro valor actual es menor o igual que el anterior, entonces sumamos su valor a la suma total\n",
        "    if temp_value<=anterior:\n",
        "      suma_total+=temp_value\n",
        "      \"\"\"\n",
        "  De lo contrario significa que en realidad el número anterior le restaba al actual, y como en la iteración anterior se sumó\n",
        "  Aquí lo tendremos que restar dos veces, una por la iteración anterior y otra para darle su valor original\n",
        "      \"\"\"\n",
        "    else:\n",
        "      suma_total+=temp_value-(2*(anterior))\n",
        "  #Al final de las iteraciones devolvemos la suma de los elementos de la cadena convertidos gracias al diccionario\n",
        "  return suma_total\n",
        "\n",
        "print(roman_to_int('MCMLIV'))\n",
        "print(roman_to_int('MMXIX'))\n",
        "print(roman_to_int('IV'))\n",
        "print(roman_to_int('XL'))\n",
        "  "
      ]
    },
    {
      "cell_type": "code",
      "execution_count": null,
      "metadata": {
        "colab": {
          "base_uri": "https://localhost:8080/"
        },
        "id": "KcKLGWR5SKRc",
        "outputId": "e4cb7114-a363-4797-cb51-da09493d5e69"
      },
      "outputs": [
        {
          "name": "stdout",
          "output_type": "stream",
          "text": [
            "1954\n",
            "2019\n",
            "4\n",
            "40\n"
          ]
        }
      ],
      "source": [
        "\"\"\"\n",
        "b) Haz la función contraria, de enteros a Romanos\n",
        "\n",
        "Para este ejercicio testea en el verifica la salida del inciso a)\n",
        "\"\"\"\n",
        "#Definimos la función\n",
        "def int_to_roman(integer:int)->(str):\n",
        "  \"\"\"\n",
        "  Returns the convertion from integers to Roman Numerals.\n",
        "\n",
        "  Parameters\n",
        "  ----------\n",
        "  integer: int\n",
        "  The integer to convert to a roman numeral\n",
        "\n",
        "  Returns\n",
        "  -------\n",
        "  string : str\n",
        "  The convertion from integer to Roman Numeral.\n",
        "\n",
        "  Examples\n",
        "  --------\n",
        "  >>> roman_to_int(5)\n",
        "  'V'\n",
        "  \"\"\"\n",
        "  #Usamos nuestro diccionario\n",
        "  roman_values = {'M': 1000, 'D': 500, 'C': 100, 'L': 50, 'X': 10, 'V': 5, 'I': 1}\n",
        "  #Creamos una cadena vacía donde se almacenarán los caracteres del número romano\n",
        "  string = ''\n",
        "  #Creamos una variable temporal que se descompondrá conforme avance en los procesos\n",
        "  temp_value = int(integer)\n",
        "  #Creamos un ciclo del cual no se salga hasta que el número esté completamente descompuesto\n",
        "  while temp_value>=1:\n",
        "    \"\"\"Mientras que nuestra variable temporal sea mayor que el valor de M, se agrega M a la cadena\n",
        "    y se le resta el valor que corresponde a M en el diccionario a la variable temporal\n",
        "    \"\"\"\n",
        "    while temp_value>=roman_values['M']:\n",
        "      string += 'M'\n",
        "      temp_value-=roman_values['M']\n",
        "      \"\"\"\n",
        "      De lo que nos quedó, si nuestra variable temporal es menor que el valor M y mayor o igual que el valor D\n",
        "      se derivan dos casos\n",
        "      \"\"\"\n",
        "    if (temp_value < roman_values['M']) and (temp_value >= roman_values['D']):\n",
        "      \"\"\"\n",
        "      Si la diferencia entre el valor de M y la variable temporal es menos que el valor de C en el diccionario,\n",
        "      se agrega la cadena 'CM' y se resta el valor de M pero se suma el de C a la variable temporal\n",
        "      \"\"\"\n",
        "      if (roman_values['M']-temp_value) <= (roman_values['C']):\n",
        "        string += 'CM'\n",
        "        temp_value += (-(roman_values['M']))+(roman_values['C'])\n",
        "        \"\"\"\n",
        "      Si no ocurre eso, entonces solo agregamos la cadena 'D' y le restamos el valor de D a la variable temporal\n",
        "        \"\"\"\n",
        "      else:  \n",
        "        string += 'D'\n",
        "        temp_value-=roman_values['D']\n",
        "        \"\"\"\n",
        "        Si lo que quedó en la variable temporal es menor que el valor de D pero mayor o igual que el valor de C en el diccionario\n",
        "        hay dos posibles casos\n",
        "        \"\"\"\n",
        "    if (temp_value < roman_values['D']) and (temp_value >= roman_values['C']):\n",
        "      \"\"\"\n",
        "      si la diferencia entre el valor de D y la variable temporal es menor al valor de C, se agrega 'CD' a la cadena, y se \n",
        "      resta a la variable temporal el resultado del valor de D menos el valor de C\n",
        "      \"\"\"\n",
        "      if (roman_values['D']-temp_value) <= (roman_values['C']):\n",
        "        string += 'CD'\n",
        "        temp_value-=roman_values['D']-roman_values['C']\n",
        "        \"\"\"\n",
        "      Si no es así, mientras que el valor de la variable temporal sea menor que el valor de D pero mayor o igual que el valor de C\n",
        "      Se agrega 'C' a la cadena y se le resta el valor de C a la variable temporal\n",
        "        \"\"\"\n",
        "      else:\n",
        "        while (temp_value < roman_values['D']) and (temp_value >= roman_values['C']):\n",
        "          string += 'C'\n",
        "          temp_value-=roman_values['C']\n",
        "          \"\"\"\n",
        "      De lo que nos quedó, si nuestra variable temporal es menor que el valor C y mayor o igual que el valor L\n",
        "      se derivan dos casos\n",
        "          \"\"\"\n",
        "    if (temp_value < roman_values['C']) and (temp_value >= roman_values['L']):\n",
        "      \"\"\"\n",
        "      si la diferencia entre el valor de C y la variable temporal es menos que el valor de  en el diccionario de X,\n",
        "      se agrega la cadena 'XC' y se resta el valor de C pero se suma el de X a la variable temporal\n",
        "      \"\"\"\n",
        "      if (roman_values['C']-temp_value) <= (roman_values['X']):\n",
        "        string += 'XC'\n",
        "        temp_value += (-(roman_values['C']))+(roman_values['X'])\n",
        "        \"\"\"\n",
        "      Si no ocurre eso, entonces solo agregamos la cadena 'L' y le restamos el valor de L a la variable temporal\n",
        "        \"\"\"\n",
        "      else:  \n",
        "        string += 'L'\n",
        "        temp_value-=roman_values['L']\n",
        "        \"\"\"\n",
        "        Si lo que quedó en la variable temporal es menor que el valor de L pero mayor o igual que el valor de X en el diccionario\n",
        "        hay dos posibles casos\n",
        "        \"\"\"   \n",
        "    if (temp_value < roman_values['L']) and (temp_value >= roman_values['X']):\n",
        "      \"\"\"\n",
        "      si la diferencia entre el valor de L y la variable temporal es menor al valor de X, se agrega 'XL' a la cadena, y se \n",
        "      resta a la variable temporal el resultado del valor de L menos el valor de X\n",
        "      \"\"\"\n",
        "      if (roman_values['L']-temp_value) <= (roman_values['X']):\n",
        "        string += 'XL'\n",
        "        temp_value-=roman_values['L']-roman_values['X']\n",
        "        \"\"\"\n",
        "      Si no es así, mientras que el valor de la variable temporal sea menor que el valor de L pero mayor o igual que el valor de X\n",
        "      Se agrega 'X' a la cadena y se le resta el valor de X a la variable temporal\n",
        "        \"\"\"\n",
        "      else:\n",
        "        while (temp_value < roman_values['L']) and (temp_value >= roman_values['X']):\n",
        "          string += 'X'\n",
        "          temp_value-=roman_values['X']\n",
        "          \"\"\"\n",
        "      De lo que nos quedó, si nuestra variable temporal es menor que el valor X y mayor o igual que el valor V\n",
        "      se derivan dos casos\n",
        "          \"\"\"\n",
        "    if (temp_value < roman_values['X']) and (temp_value >= roman_values['V']):\n",
        "      \"\"\"\n",
        "      si la diferencia entre el valor de X y la variable temporal es menos que el valor de  en el diccionario de I,\n",
        "      se agrega la cadena 'IX' y se resta el valor de X pero se suma el de I a la variable temporal\n",
        "      \"\"\"\n",
        "      if (roman_values['X']-temp_value) <= (roman_values['I']):\n",
        "        string += 'IX'\n",
        "        temp_value += (-(roman_values['X']))+(roman_values['I'])\n",
        "        \"\"\"\n",
        "      Si no ocurre eso, entonces solo agregamos la cadena 'V' y le restamos el valor de V a la variable temporal\n",
        "        \"\"\"\n",
        "      else:  \n",
        "        string += 'V'\n",
        "        temp_value-=roman_values['V']\n",
        "        \"\"\"\n",
        "        Si lo que quedó en la variable temporal es menor que el valor de V pero mayor o igual que el valor de I en el diccionario\n",
        "        hay dos posibles casos\n",
        "        \"\"\"   \n",
        "    if (temp_value < roman_values['V']) and (temp_value >= roman_values['I']):\n",
        "      \"\"\"\n",
        "      si la diferencia entre el valor de V y la variable temporal es menor al valor de I, se agrega 'IV' a la cadena, y se \n",
        "      resta a la variable temporal el resultado del valor de V menos el valor de I\n",
        "      \"\"\"\n",
        "      if (roman_values['V']-temp_value) <= (roman_values['I']):\n",
        "        string += 'IV'\n",
        "        temp_value-=roman_values['V']-roman_values['I']\n",
        "        \"\"\"\n",
        "      Si no es así, mientras que el valor de la variable temporal sea menor que el valor de V pero mayor o igual que el valor de I\n",
        "      Se agrega 'I' a la cadena y se le resta el valor de I a la variable temporal\n",
        "        \"\"\"\n",
        "      else:\n",
        "        while (temp_value < roman_values['V']) and (temp_value >= roman_values['I']):\n",
        "          string += 'I'\n",
        "          temp_value-=roman_values['I']\n",
        "  #Devolvemos la cadena que nos quedó\n",
        "  return string\n",
        "\n",
        "  #Aplicamos la función a cada uno de los resultados de la función anterior\n",
        "valores=[roman_to_int('MCMLIV'), roman_to_int('MMXIX'), roman_to_int('IV'), roman_to_int('XL')]  \n",
        "for i in valores: \n",
        "  print(roman_to_int(int_to_roman(i)))\n"
      ]
    },
    {
      "attachments": {},
      "cell_type": "markdown",
      "metadata": {
        "id": "wnyqrPr_xTMI"
      },
      "source": [
        "#Simulación \n",
        "Dar click en el siguiente enlace, descargar y abrir en [NetLogo](http://www.netlogoweb.org/launch#NewModel).\n",
        "##[Fila Básica](https://drive.google.com/file/d/1TmvcUSjkqM5XWbWwesEUrzs0lXxC6krB/view?usp=sharing)."
      ]
    },
    {
      "attachments": {},
      "cell_type": "markdown",
      "metadata": {
        "id": "QRb93RZAoB-2"
      },
      "source": [
        "#**LEY DE AMDAHL**\n",
        "\n",
        "La ley de Amdahl describe cómo está limitada la aceleración del tiempo de ejecución de un programa informático que no se puede paralelizar. La ley Amdahl es un principio de la informática, fue fundada por el informático Gene Amdahl en 1967. Es caracterizada por la siguiente fórmula.\n",
        "\n",
        "$$\\Psi\\leq\\frac{1}{f+(1-f)/p}$$\n",
        "\n",
        "donde $f$ es la fracción del programa que se puede paralelizar y N es el número de procesadores.\n",
        "\n",
        "$\\Psi\\$ , respresenta la aceleración del tiempo de ejecución del programa.\n",
        "\n",
        "(1 - $f$) / $p$, representa la cantidad de tiempo que debe dedicar cada procesador para ejecutar en la parte que no se puede paralelizar en el programa. El término no puede ser 0, y a medida que $p$ aumenta este se reduce. En otras palabras, si una tarea no puede dividirse en subtareas paralelizables más pequeñas, la paralelización no supondrá un aumento significativo de la velocidad.\n",
        "\n",
        "###**ALGUNAS IMPLICACIONES** \n",
        "\n",
        "*   Muestra que el aumento de velocidad conseguido mediante la paralelización está limitado por la parte no paralelizable de la tarea. Por lo tanto, es crucial identificar las partes de una tarea que se pueden paralelizar y centrarse en optimizar esas partes.\n",
        "*   A medida que aumenta el número de procesadores, disminuye la velocidad por procesador adicional.\n",
        "*   Cuanto más eficiente sea un algoritmo a la hora de paralelizar una tarea, mayor será el aumento de velocidad potencial que se pueda conseguir.\n",
        "*   La ley de Amdahl puede utilizarse para determinar la relación coste-beneficio de invertir en procesadores adicionales para una tarea determinada. Calculando la velocidad máxima teórica que puede alcanzarse mediante la paralelización.\n",
        "\n",
        "En general, la ley de Amdahl tiene importantes implicaciones para la computación paralela y denota la importancia de identificar las partes que son posibles de paralelizar de una tarea y optimizar los algoritmos para lograr el máximo aumento de velocidad así como buscar la forma más eficiente de realizar los procesos.\n"
      ]
    }
  ],
  "metadata": {
    "colab": {
      "provenance": []
    },
    "kernelspec": {
      "display_name": "Python 3",
      "name": "python3"
    },
    "language_info": {
      "name": "python"
    }
  },
  "nbformat": 4,
  "nbformat_minor": 0
}
